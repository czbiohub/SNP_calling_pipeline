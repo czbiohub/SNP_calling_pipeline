{
 "cells": [
  {
   "cell_type": "code",
   "execution_count": 1,
   "metadata": {
    "collapsed": true
   },
   "outputs": [],
   "source": [
    "import pandas as pd"
   ]
  },
  {
   "cell_type": "code",
   "execution_count": 2,
   "metadata": {
    "collapsed": true
   },
   "outputs": [],
   "source": [
    "database = pd.read_csv(\"CosmicGenomeScreensMutantExport.tsv\", delimiter = '\\t')"
   ]
  },
  {
   "cell_type": "code",
   "execution_count": 4,
   "metadata": {},
   "outputs": [
    {
     "data": {
      "text/html": [
       "<div>\n",
       "<style>\n",
       "    .dataframe thead tr:only-child th {\n",
       "        text-align: right;\n",
       "    }\n",
       "\n",
       "    .dataframe thead th {\n",
       "        text-align: left;\n",
       "    }\n",
       "\n",
       "    .dataframe tbody tr th {\n",
       "        vertical-align: top;\n",
       "    }\n",
       "</style>\n",
       "<table border=\"1\" class=\"dataframe\">\n",
       "  <thead>\n",
       "    <tr style=\"text-align: right;\">\n",
       "      <th></th>\n",
       "      <th>Gene name</th>\n",
       "      <th>Accession Number</th>\n",
       "      <th>Gene CDS length</th>\n",
       "      <th>HGNC ID</th>\n",
       "      <th>Sample name</th>\n",
       "      <th>ID_sample</th>\n",
       "      <th>ID_tumour</th>\n",
       "      <th>Primary site</th>\n",
       "      <th>Site subtype 1</th>\n",
       "      <th>Site subtype 2</th>\n",
       "      <th>...</th>\n",
       "      <th>Mutation strand</th>\n",
       "      <th>SNP</th>\n",
       "      <th>FATHMM prediction</th>\n",
       "      <th>FATHMM score</th>\n",
       "      <th>Mutation somatic status</th>\n",
       "      <th>Pubmed_PMID</th>\n",
       "      <th>ID_STUDY</th>\n",
       "      <th>Sample Type</th>\n",
       "      <th>Tumour origin</th>\n",
       "      <th>Age</th>\n",
       "    </tr>\n",
       "  </thead>\n",
       "  <tbody>\n",
       "    <tr>\n",
       "      <th>0</th>\n",
       "      <td>TRIO</td>\n",
       "      <td>ENST00000344204</td>\n",
       "      <td>9294</td>\n",
       "      <td>12303</td>\n",
       "      <td>MZ7-mel</td>\n",
       "      <td>753596</td>\n",
       "      <td>672566</td>\n",
       "      <td>skin</td>\n",
       "      <td>NS</td>\n",
       "      <td>NS</td>\n",
       "      <td>...</td>\n",
       "      <td>+</td>\n",
       "      <td>n</td>\n",
       "      <td>PATHOGENIC</td>\n",
       "      <td>0.98488</td>\n",
       "      <td>Confirmed somatic variant</td>\n",
       "      <td>NaN</td>\n",
       "      <td>30.0</td>\n",
       "      <td>cell-line</td>\n",
       "      <td>metastasis</td>\n",
       "      <td>NaN</td>\n",
       "    </tr>\n",
       "    <tr>\n",
       "      <th>1</th>\n",
       "      <td>ABCC4_ENST00000376887</td>\n",
       "      <td>ENST00000376887</td>\n",
       "      <td>3978</td>\n",
       "      <td>NaN</td>\n",
       "      <td>05-165K5</td>\n",
       "      <td>2575184</td>\n",
       "      <td>2436521</td>\n",
       "      <td>prostate</td>\n",
       "      <td>NS</td>\n",
       "      <td>NS</td>\n",
       "      <td>...</td>\n",
       "      <td>-</td>\n",
       "      <td>NaN</td>\n",
       "      <td>NaN</td>\n",
       "      <td>NaN</td>\n",
       "      <td>Confirmed somatic variant</td>\n",
       "      <td>26928463.0</td>\n",
       "      <td>NaN</td>\n",
       "      <td>autopsy - NOS</td>\n",
       "      <td>metastasis</td>\n",
       "      <td>69.0</td>\n",
       "    </tr>\n",
       "    <tr>\n",
       "      <th>2</th>\n",
       "      <td>TP53_ENST00000413465</td>\n",
       "      <td>ENST00000413465</td>\n",
       "      <td>858</td>\n",
       "      <td>11998</td>\n",
       "      <td>PD11327a</td>\n",
       "      <td>1744637</td>\n",
       "      <td>1649978</td>\n",
       "      <td>breast</td>\n",
       "      <td>NS</td>\n",
       "      <td>NS</td>\n",
       "      <td>...</td>\n",
       "      <td>-</td>\n",
       "      <td>n</td>\n",
       "      <td>PATHOGENIC</td>\n",
       "      <td>0.99623</td>\n",
       "      <td>Confirmed somatic variant</td>\n",
       "      <td>NaN</td>\n",
       "      <td>652.0</td>\n",
       "      <td>NS</td>\n",
       "      <td>NS</td>\n",
       "      <td>NaN</td>\n",
       "    </tr>\n",
       "    <tr>\n",
       "      <th>3</th>\n",
       "      <td>EXD3</td>\n",
       "      <td>ENST00000340951</td>\n",
       "      <td>2274</td>\n",
       "      <td>26023</td>\n",
       "      <td>HUB-02-C2-098</td>\n",
       "      <td>2607142</td>\n",
       "      <td>2466854</td>\n",
       "      <td>large_intestine</td>\n",
       "      <td>NS</td>\n",
       "      <td>NS</td>\n",
       "      <td>...</td>\n",
       "      <td>-</td>\n",
       "      <td>n</td>\n",
       "      <td>NEUTRAL</td>\n",
       "      <td>0.02736</td>\n",
       "      <td>Confirmed somatic variant</td>\n",
       "      <td>NaN</td>\n",
       "      <td>670.0</td>\n",
       "      <td>organoid culture</td>\n",
       "      <td>NS</td>\n",
       "      <td>NaN</td>\n",
       "    </tr>\n",
       "    <tr>\n",
       "      <th>4</th>\n",
       "      <td>ELMO2</td>\n",
       "      <td>ENST00000396391</td>\n",
       "      <td>2163</td>\n",
       "      <td>17233</td>\n",
       "      <td>HUB-02-B2-113</td>\n",
       "      <td>2607139</td>\n",
       "      <td>2466851</td>\n",
       "      <td>large_intestine</td>\n",
       "      <td>NS</td>\n",
       "      <td>NS</td>\n",
       "      <td>...</td>\n",
       "      <td>-</td>\n",
       "      <td>n</td>\n",
       "      <td>NEUTRAL</td>\n",
       "      <td>0.22837</td>\n",
       "      <td>Confirmed somatic variant</td>\n",
       "      <td>NaN</td>\n",
       "      <td>670.0</td>\n",
       "      <td>organoid culture</td>\n",
       "      <td>NS</td>\n",
       "      <td>NaN</td>\n",
       "    </tr>\n",
       "  </tbody>\n",
       "</table>\n",
       "<p>5 rows × 34 columns</p>\n",
       "</div>"
      ],
      "text/plain": [
       "               Gene name Accession Number  Gene CDS length HGNC ID  \\\n",
       "0                   TRIO  ENST00000344204             9294   12303   \n",
       "1  ABCC4_ENST00000376887  ENST00000376887             3978     NaN   \n",
       "2   TP53_ENST00000413465  ENST00000413465              858   11998   \n",
       "3                   EXD3  ENST00000340951             2274   26023   \n",
       "4                  ELMO2  ENST00000396391             2163   17233   \n",
       "\n",
       "     Sample name  ID_sample  ID_tumour     Primary site Site subtype 1  \\\n",
       "0        MZ7-mel     753596     672566             skin             NS   \n",
       "1       05-165K5    2575184    2436521         prostate             NS   \n",
       "2       PD11327a    1744637    1649978           breast             NS   \n",
       "3  HUB-02-C2-098    2607142    2466854  large_intestine             NS   \n",
       "4  HUB-02-B2-113    2607139    2466851  large_intestine             NS   \n",
       "\n",
       "  Site subtype 2  ...  Mutation strand  SNP FATHMM prediction FATHMM score  \\\n",
       "0             NS  ...                +    n        PATHOGENIC      0.98488   \n",
       "1             NS  ...                -  NaN               NaN          NaN   \n",
       "2             NS  ...                -    n        PATHOGENIC      0.99623   \n",
       "3             NS  ...                -    n           NEUTRAL      0.02736   \n",
       "4             NS  ...                -    n           NEUTRAL      0.22837   \n",
       "\n",
       "     Mutation somatic status Pubmed_PMID ID_STUDY       Sample Type  \\\n",
       "0  Confirmed somatic variant         NaN     30.0         cell-line   \n",
       "1  Confirmed somatic variant  26928463.0      NaN     autopsy - NOS   \n",
       "2  Confirmed somatic variant         NaN    652.0                NS   \n",
       "3  Confirmed somatic variant         NaN    670.0  organoid culture   \n",
       "4  Confirmed somatic variant         NaN    670.0  organoid culture   \n",
       "\n",
       "  Tumour origin   Age  \n",
       "0    metastasis   NaN  \n",
       "1    metastasis  69.0  \n",
       "2            NS   NaN  \n",
       "3            NS   NaN  \n",
       "4            NS   NaN  \n",
       "\n",
       "[5 rows x 34 columns]"
      ]
     },
     "execution_count": 4,
     "metadata": {},
     "output_type": "execute_result"
    }
   ],
   "source": [
    "database.head()"
   ]
  },
  {
   "cell_type": "code",
   "execution_count": 5,
   "metadata": {},
   "outputs": [
    {
     "data": {
      "text/plain": [
       "['Gene name',\n",
       " 'Accession Number',\n",
       " 'Gene CDS length',\n",
       " 'HGNC ID',\n",
       " 'Sample name',\n",
       " 'ID_sample',\n",
       " 'ID_tumour',\n",
       " 'Primary site',\n",
       " 'Site subtype 1',\n",
       " 'Site subtype 2',\n",
       " 'Site subtype 3',\n",
       " 'Primary histology',\n",
       " 'Histology subtype 1',\n",
       " 'Histology subtype 2',\n",
       " 'Histology subtype 3',\n",
       " 'Genome-wide screen',\n",
       " 'Mutation ID',\n",
       " 'Mutation CDS',\n",
       " 'Mutation AA',\n",
       " 'Mutation Description',\n",
       " 'Mutation zygosity',\n",
       " 'LOH',\n",
       " 'GRCh',\n",
       " 'Mutation genome position',\n",
       " 'Mutation strand',\n",
       " 'SNP',\n",
       " 'FATHMM prediction',\n",
       " 'FATHMM score',\n",
       " 'Mutation somatic status',\n",
       " 'Pubmed_PMID',\n",
       " 'ID_STUDY',\n",
       " 'Sample Type',\n",
       " 'Tumour origin',\n",
       " 'Age']"
      ]
     },
     "execution_count": 5,
     "metadata": {},
     "output_type": "execute_result"
    }
   ],
   "source": [
    "list(database)"
   ]
  },
  {
   "cell_type": "code",
   "execution_count": 6,
   "metadata": {},
   "outputs": [
    {
     "data": {
      "text/plain": [
       "0          c.5932G>A\n",
       "1    c.3654_3655insA\n",
       "2           c.581T>G\n",
       "3           c.139C>T\n",
       "4          c.1527A>G\n",
       "Name: Mutation CDS, dtype: object"
      ]
     },
     "execution_count": 6,
     "metadata": {},
     "output_type": "execute_result"
    }
   ],
   "source": [
    "database['Mutation CDS'].head()"
   ]
  },
  {
   "cell_type": "code",
   "execution_count": 7,
   "metadata": {},
   "outputs": [
    {
     "data": {
      "text/plain": [
       "0        p.V1978M\n",
       "1    p.I1219fs*22\n",
       "2         p.L194R\n",
       "3          p.R47W\n",
       "4         p.R509R\n",
       "Name: Mutation AA, dtype: object"
      ]
     },
     "execution_count": 7,
     "metadata": {},
     "output_type": "execute_result"
    }
   ],
   "source": [
    "database['Mutation AA'].head()"
   ]
  },
  {
   "cell_type": "code",
   "execution_count": null,
   "metadata": {
    "collapsed": true
   },
   "outputs": [],
   "source": []
  }
 ],
 "metadata": {
  "kernelspec": {
   "display_name": "Python 3",
   "language": "python",
   "name": "python3"
  },
  "language_info": {
   "codemirror_mode": {
    "name": "ipython",
    "version": 3
   },
   "file_extension": ".py",
   "mimetype": "text/x-python",
   "name": "python",
   "nbconvert_exporter": "python",
   "pygments_lexer": "ipython3",
   "version": "3.6.4"
  }
 },
 "nbformat": 4,
 "nbformat_minor": 2
}
