{
 "cells": [
  {
   "cell_type": "code",
   "execution_count": 1,
   "metadata": {
    "collapsed": true
   },
   "outputs": [],
   "source": [
    "import pandas as pd"
   ]
  },
  {
   "cell_type": "code",
   "execution_count": 2,
   "metadata": {
    "collapsed": true
   },
   "outputs": [],
   "source": [
    "database = pd.read_csv(\"CosmicGenomeScreensMutantExport.tsv\", delimiter = '\\t')"
   ]
  },
  {
   "cell_type": "code",
   "execution_count": 4,
   "metadata": {},
   "outputs": [
    {
     "data": {
      "text/html": [
       "<div>\n",
       "<style>\n",
       "    .dataframe thead tr:only-child th {\n",
       "        text-align: right;\n",
       "    }\n",
       "\n",
       "    .dataframe thead th {\n",
       "        text-align: left;\n",
       "    }\n",
       "\n",
       "    .dataframe tbody tr th {\n",
       "        vertical-align: top;\n",
       "    }\n",
       "</style>\n",
       "<table border=\"1\" class=\"dataframe\">\n",
       "  <thead>\n",
       "    <tr style=\"text-align: right;\">\n",
       "      <th></th>\n",
       "      <th>Gene name</th>\n",
       "      <th>Accession Number</th>\n",
       "      <th>Gene CDS length</th>\n",
       "      <th>HGNC ID</th>\n",
       "      <th>Sample name</th>\n",
       "      <th>ID_sample</th>\n",
       "      <th>ID_tumour</th>\n",
       "      <th>Primary site</th>\n",
       "      <th>Site subtype 1</th>\n",
       "      <th>Site subtype 2</th>\n",
       "      <th>...</th>\n",
       "      <th>Mutation strand</th>\n",
       "      <th>SNP</th>\n",
       "      <th>FATHMM prediction</th>\n",
       "      <th>FATHMM score</th>\n",
       "      <th>Mutation somatic status</th>\n",
       "      <th>Pubmed_PMID</th>\n",
       "      <th>ID_STUDY</th>\n",
       "      <th>Sample Type</th>\n",
       "      <th>Tumour origin</th>\n",
       "      <th>Age</th>\n",
       "    </tr>\n",
       "  </thead>\n",
       "  <tbody>\n",
       "    <tr>\n",
       "      <th>0</th>\n",
       "      <td>TRIO</td>\n",
       "      <td>ENST00000344204</td>\n",
       "      <td>9294</td>\n",
       "      <td>12303</td>\n",
       "      <td>MZ7-mel</td>\n",
       "      <td>753596</td>\n",
       "      <td>672566</td>\n",
       "      <td>skin</td>\n",
       "      <td>NS</td>\n",
       "      <td>NS</td>\n",
       "      <td>...</td>\n",
       "      <td>+</td>\n",
       "      <td>n</td>\n",
       "      <td>PATHOGENIC</td>\n",
       "      <td>0.98488</td>\n",
       "      <td>Confirmed somatic variant</td>\n",
       "      <td>NaN</td>\n",
       "      <td>30.0</td>\n",
       "      <td>cell-line</td>\n",
       "      <td>metastasis</td>\n",
       "      <td>NaN</td>\n",
       "    </tr>\n",
       "    <tr>\n",
       "      <th>1</th>\n",
       "      <td>ABCC4_ENST00000376887</td>\n",
       "      <td>ENST00000376887</td>\n",
       "      <td>3978</td>\n",
       "      <td>NaN</td>\n",
       "      <td>05-165K5</td>\n",
       "      <td>2575184</td>\n",
       "      <td>2436521</td>\n",
       "      <td>prostate</td>\n",
       "      <td>NS</td>\n",
       "      <td>NS</td>\n",
       "      <td>...</td>\n",
       "      <td>-</td>\n",
       "      <td>NaN</td>\n",
       "      <td>NaN</td>\n",
       "      <td>NaN</td>\n",
       "      <td>Confirmed somatic variant</td>\n",
       "      <td>26928463.0</td>\n",
       "      <td>NaN</td>\n",
       "      <td>autopsy - NOS</td>\n",
       "      <td>metastasis</td>\n",
       "      <td>69.0</td>\n",
       "    </tr>\n",
       "    <tr>\n",
       "      <th>2</th>\n",
       "      <td>TP53_ENST00000413465</td>\n",
       "      <td>ENST00000413465</td>\n",
       "      <td>858</td>\n",
       "      <td>11998</td>\n",
       "      <td>PD11327a</td>\n",
       "      <td>1744637</td>\n",
       "      <td>1649978</td>\n",
       "      <td>breast</td>\n",
       "      <td>NS</td>\n",
       "      <td>NS</td>\n",
       "      <td>...</td>\n",
       "      <td>-</td>\n",
       "      <td>n</td>\n",
       "      <td>PATHOGENIC</td>\n",
       "      <td>0.99623</td>\n",
       "      <td>Confirmed somatic variant</td>\n",
       "      <td>NaN</td>\n",
       "      <td>652.0</td>\n",
       "      <td>NS</td>\n",
       "      <td>NS</td>\n",
       "      <td>NaN</td>\n",
       "    </tr>\n",
       "    <tr>\n",
       "      <th>3</th>\n",
       "      <td>EXD3</td>\n",
       "      <td>ENST00000340951</td>\n",
       "      <td>2274</td>\n",
       "      <td>26023</td>\n",
       "      <td>HUB-02-C2-098</td>\n",
       "      <td>2607142</td>\n",
       "      <td>2466854</td>\n",
       "      <td>large_intestine</td>\n",
       "      <td>NS</td>\n",
       "      <td>NS</td>\n",
       "      <td>...</td>\n",
       "      <td>-</td>\n",
       "      <td>n</td>\n",
       "      <td>NEUTRAL</td>\n",
       "      <td>0.02736</td>\n",
       "      <td>Confirmed somatic variant</td>\n",
       "      <td>NaN</td>\n",
       "      <td>670.0</td>\n",
       "      <td>organoid culture</td>\n",
       "      <td>NS</td>\n",
       "      <td>NaN</td>\n",
       "    </tr>\n",
       "    <tr>\n",
       "      <th>4</th>\n",
       "      <td>ELMO2</td>\n",
       "      <td>ENST00000396391</td>\n",
       "      <td>2163</td>\n",
       "      <td>17233</td>\n",
       "      <td>HUB-02-B2-113</td>\n",
       "      <td>2607139</td>\n",
       "      <td>2466851</td>\n",
       "      <td>large_intestine</td>\n",
       "      <td>NS</td>\n",
       "      <td>NS</td>\n",
       "      <td>...</td>\n",
       "      <td>-</td>\n",
       "      <td>n</td>\n",
       "      <td>NEUTRAL</td>\n",
       "      <td>0.22837</td>\n",
       "      <td>Confirmed somatic variant</td>\n",
       "      <td>NaN</td>\n",
       "      <td>670.0</td>\n",
       "      <td>organoid culture</td>\n",
       "      <td>NS</td>\n",
       "      <td>NaN</td>\n",
       "    </tr>\n",
       "  </tbody>\n",
       "</table>\n",
       "<p>5 rows × 34 columns</p>\n",
       "</div>"
      ],
      "text/plain": [
       "               Gene name Accession Number  Gene CDS length HGNC ID  \\\n",
       "0                   TRIO  ENST00000344204             9294   12303   \n",
       "1  ABCC4_ENST00000376887  ENST00000376887             3978     NaN   \n",
       "2   TP53_ENST00000413465  ENST00000413465              858   11998   \n",
       "3                   EXD3  ENST00000340951             2274   26023   \n",
       "4                  ELMO2  ENST00000396391             2163   17233   \n",
       "\n",
       "     Sample name  ID_sample  ID_tumour     Primary site Site subtype 1  \\\n",
       "0        MZ7-mel     753596     672566             skin             NS   \n",
       "1       05-165K5    2575184    2436521         prostate             NS   \n",
       "2       PD11327a    1744637    1649978           breast             NS   \n",
       "3  HUB-02-C2-098    2607142    2466854  large_intestine             NS   \n",
       "4  HUB-02-B2-113    2607139    2466851  large_intestine             NS   \n",
       "\n",
       "  Site subtype 2  ...  Mutation strand  SNP FATHMM prediction FATHMM score  \\\n",
       "0             NS  ...                +    n        PATHOGENIC      0.98488   \n",
       "1             NS  ...                -  NaN               NaN          NaN   \n",
       "2             NS  ...                -    n        PATHOGENIC      0.99623   \n",
       "3             NS  ...                -    n           NEUTRAL      0.02736   \n",
       "4             NS  ...                -    n           NEUTRAL      0.22837   \n",
       "\n",
       "     Mutation somatic status Pubmed_PMID ID_STUDY       Sample Type  \\\n",
       "0  Confirmed somatic variant         NaN     30.0         cell-line   \n",
       "1  Confirmed somatic variant  26928463.0      NaN     autopsy - NOS   \n",
       "2  Confirmed somatic variant         NaN    652.0                NS   \n",
       "3  Confirmed somatic variant         NaN    670.0  organoid culture   \n",
       "4  Confirmed somatic variant         NaN    670.0  organoid culture   \n",
       "\n",
       "  Tumour origin   Age  \n",
       "0    metastasis   NaN  \n",
       "1    metastasis  69.0  \n",
       "2            NS   NaN  \n",
       "3            NS   NaN  \n",
       "4            NS   NaN  \n",
       "\n",
       "[5 rows x 34 columns]"
      ]
     },
     "execution_count": 4,
     "metadata": {},
     "output_type": "execute_result"
    }
   ],
   "source": [
    "database.head()"
   ]
  },
  {
   "cell_type": "code",
   "execution_count": 5,
   "metadata": {},
   "outputs": [
    {
     "data": {
      "text/plain": [
       "['Gene name',\n",
       " 'Accession Number',\n",
       " 'Gene CDS length',\n",
       " 'HGNC ID',\n",
       " 'Sample name',\n",
       " 'ID_sample',\n",
       " 'ID_tumour',\n",
       " 'Primary site',\n",
       " 'Site subtype 1',\n",
       " 'Site subtype 2',\n",
       " 'Site subtype 3',\n",
       " 'Primary histology',\n",
       " 'Histology subtype 1',\n",
       " 'Histology subtype 2',\n",
       " 'Histology subtype 3',\n",
       " 'Genome-wide screen',\n",
       " 'Mutation ID',\n",
       " 'Mutation CDS',\n",
       " 'Mutation AA',\n",
       " 'Mutation Description',\n",
       " 'Mutation zygosity',\n",
       " 'LOH',\n",
       " 'GRCh',\n",
       " 'Mutation genome position',\n",
       " 'Mutation strand',\n",
       " 'SNP',\n",
       " 'FATHMM prediction',\n",
       " 'FATHMM score',\n",
       " 'Mutation somatic status',\n",
       " 'Pubmed_PMID',\n",
       " 'ID_STUDY',\n",
       " 'Sample Type',\n",
       " 'Tumour origin',\n",
       " 'Age']"
      ]
     },
     "execution_count": 5,
     "metadata": {},
     "output_type": "execute_result"
    }
   ],
   "source": [
    "list(database)"
   ]
  },
  {
   "cell_type": "code",
   "execution_count": 6,
   "metadata": {},
   "outputs": [
    {
     "data": {
      "text/plain": [
       "0          c.5932G>A\n",
       "1    c.3654_3655insA\n",
       "2           c.581T>G\n",
       "3           c.139C>T\n",
       "4          c.1527A>G\n",
       "Name: Mutation CDS, dtype: object"
      ]
     },
     "execution_count": 6,
     "metadata": {},
     "output_type": "execute_result"
    }
   ],
   "source": [
    "database['Mutation CDS'].head()"
   ]
  },
  {
   "cell_type": "code",
   "execution_count": 7,
   "metadata": {},
   "outputs": [
    {
     "data": {
      "text/plain": [
       "0        p.V1978M\n",
       "1    p.I1219fs*22\n",
       "2         p.L194R\n",
       "3          p.R47W\n",
       "4         p.R509R\n",
       "Name: Mutation AA, dtype: object"
      ]
     },
     "execution_count": 7,
     "metadata": {},
     "output_type": "execute_result"
    }
   ],
   "source": [
    "database['Mutation AA'].head()"
   ]
  },
  {
   "cell_type": "code",
   "execution_count": 13,
   "metadata": {},
   "outputs": [
    {
     "data": {
      "text/html": [
       "<div>\n",
       "<style>\n",
       "    .dataframe thead tr:only-child th {\n",
       "        text-align: right;\n",
       "    }\n",
       "\n",
       "    .dataframe thead th {\n",
       "        text-align: left;\n",
       "    }\n",
       "\n",
       "    .dataframe tbody tr th {\n",
       "        vertical-align: top;\n",
       "    }\n",
       "</style>\n",
       "<table border=\"1\" class=\"dataframe\">\n",
       "  <thead>\n",
       "    <tr style=\"text-align: right;\">\n",
       "      <th></th>\n",
       "      <th>0</th>\n",
       "      <th>1</th>\n",
       "      <th>2</th>\n",
       "      <th>3</th>\n",
       "      <th>4</th>\n",
       "      <th>5</th>\n",
       "      <th>6</th>\n",
       "      <th>7</th>\n",
       "      <th>8</th>\n",
       "    </tr>\n",
       "  </thead>\n",
       "  <tbody>\n",
       "    <tr>\n",
       "      <th>0</th>\n",
       "      <td>chr1</td>\n",
       "      <td>unknown</td>\n",
       "      <td>exon</td>\n",
       "      <td>11874</td>\n",
       "      <td>12227</td>\n",
       "      <td>.</td>\n",
       "      <td>+</td>\n",
       "      <td>.</td>\n",
       "      <td>gene_id \"DDX11L1\"; gene_name \"DDX11L1\"; transc...</td>\n",
       "    </tr>\n",
       "    <tr>\n",
       "      <th>1</th>\n",
       "      <td>chr1</td>\n",
       "      <td>unknown</td>\n",
       "      <td>exon</td>\n",
       "      <td>12613</td>\n",
       "      <td>12721</td>\n",
       "      <td>.</td>\n",
       "      <td>+</td>\n",
       "      <td>.</td>\n",
       "      <td>gene_id \"DDX11L1\"; gene_name \"DDX11L1\"; transc...</td>\n",
       "    </tr>\n",
       "    <tr>\n",
       "      <th>2</th>\n",
       "      <td>chr1</td>\n",
       "      <td>unknown</td>\n",
       "      <td>exon</td>\n",
       "      <td>13221</td>\n",
       "      <td>14409</td>\n",
       "      <td>.</td>\n",
       "      <td>+</td>\n",
       "      <td>.</td>\n",
       "      <td>gene_id \"DDX11L1\"; gene_name \"DDX11L1\"; transc...</td>\n",
       "    </tr>\n",
       "    <tr>\n",
       "      <th>3</th>\n",
       "      <td>chr1</td>\n",
       "      <td>unknown</td>\n",
       "      <td>exon</td>\n",
       "      <td>14362</td>\n",
       "      <td>14829</td>\n",
       "      <td>.</td>\n",
       "      <td>-</td>\n",
       "      <td>.</td>\n",
       "      <td>gene_id \"WASH7P\"; gene_name \"WASH7P\"; transcri...</td>\n",
       "    </tr>\n",
       "    <tr>\n",
       "      <th>4</th>\n",
       "      <td>chr1</td>\n",
       "      <td>unknown</td>\n",
       "      <td>exon</td>\n",
       "      <td>14970</td>\n",
       "      <td>15038</td>\n",
       "      <td>.</td>\n",
       "      <td>-</td>\n",
       "      <td>.</td>\n",
       "      <td>gene_id \"WASH7P\"; gene_name \"WASH7P\"; transcri...</td>\n",
       "    </tr>\n",
       "  </tbody>\n",
       "</table>\n",
       "</div>"
      ],
      "text/plain": [
       "      0        1     2      3      4  5  6  7  \\\n",
       "0  chr1  unknown  exon  11874  12227  .  +  .   \n",
       "1  chr1  unknown  exon  12613  12721  .  +  .   \n",
       "2  chr1  unknown  exon  13221  14409  .  +  .   \n",
       "3  chr1  unknown  exon  14362  14829  .  -  .   \n",
       "4  chr1  unknown  exon  14970  15038  .  -  .   \n",
       "\n",
       "                                                   8  \n",
       "0  gene_id \"DDX11L1\"; gene_name \"DDX11L1\"; transc...  \n",
       "1  gene_id \"DDX11L1\"; gene_name \"DDX11L1\"; transc...  \n",
       "2  gene_id \"DDX11L1\"; gene_name \"DDX11L1\"; transc...  \n",
       "3  gene_id \"WASH7P\"; gene_name \"WASH7P\"; transcri...  \n",
       "4  gene_id \"WASH7P\"; gene_name \"WASH7P\"; transcri...  "
      ]
     },
     "execution_count": 13,
     "metadata": {},
     "output_type": "execute_result"
    }
   ],
   "source": [
    "hg38_gtf = pd.read_csv('/Users/lincoln.harris/code/SNP_calling_pipeline/hg38-plus.gtf', delimiter = '\\t', header = None)\n",
    "hg38_gtf.head() "
   ]
  },
  {
   "cell_type": "code",
   "execution_count": 21,
   "metadata": {
    "scrolled": true
   },
   "outputs": [
    {
     "data": {
      "text/plain": [
       "0          11874\n",
       "1          12613\n",
       "2          13221\n",
       "3          14362\n",
       "4          14970\n",
       "5          15796\n",
       "6          16607\n",
       "7          16858\n",
       "8          17233\n",
       "9          17369\n",
       "10         17369\n",
       "11         17369\n",
       "12         17369\n",
       "13         17606\n",
       "14         17915\n",
       "15         18268\n",
       "16         24738\n",
       "17         29321\n",
       "18         30366\n",
       "19         30366\n",
       "20         30366\n",
       "21         30366\n",
       "22         34611\n",
       "23         34611\n",
       "24         34611\n",
       "25         35277\n",
       "26         35277\n",
       "27         35277\n",
       "28         35721\n",
       "29         35721\n",
       "           ...  \n",
       "1066011        1\n",
       "1066012        1\n",
       "1066013        1\n",
       "1066014        1\n",
       "1066015        1\n",
       "1066016        1\n",
       "1066017        1\n",
       "1066018        1\n",
       "1066019        1\n",
       "1066020        1\n",
       "1066021        1\n",
       "1066022        1\n",
       "1066023        1\n",
       "1066024        1\n",
       "1066025        1\n",
       "1066026        1\n",
       "1066027        1\n",
       "1066028        1\n",
       "1066029        1\n",
       "1066030        1\n",
       "1066031        1\n",
       "1066032        1\n",
       "1066033        1\n",
       "1066034        1\n",
       "1066035        1\n",
       "1066036        1\n",
       "1066037        1\n",
       "1066038        1\n",
       "1066039        1\n",
       "1066040        1\n",
       "Name: 3, Length: 1066041, dtype: int64"
      ]
     },
     "execution_count": 21,
     "metadata": {},
     "output_type": "execute_result"
    }
   ],
   "source": [
    "hg38_gtf[0]\n",
    "hg38_gtf[3]"
   ]
  },
  {
   "cell_type": "code",
   "execution_count": 32,
   "metadata": {
    "scrolled": true
   },
   "outputs": [
    {
     "data": {
      "text/plain": [
       "'DDX11L1'"
      ]
     },
     "execution_count": 32,
     "metadata": {},
     "output_type": "execute_result"
    }
   ],
   "source": [
    "df_found = hg38_gtf.where(hg38_gtf[4] == 12721) # works\n",
    "df_found = df_found.dropna()\n",
    "df_found[8]\n",
    "\n",
    "myStr = str(df_found[8])\n",
    "myStr = myStr.split(';')[1]\n",
    "myStr = myStr.strip(' gene_name')\n",
    "myStr = myStr.strip(' ')\n",
    "myStr = myStr.strip('\"')\n",
    "myStr # perfect!!!"
   ]
  },
  {
   "cell_type": "code",
   "execution_count": 10,
   "metadata": {
    "collapsed": true
   },
   "outputs": [],
   "source": [
    "l = ['a','b','c','d']"
   ]
  },
  {
   "cell_type": "code",
   "execution_count": 11,
   "metadata": {
    "collapsed": true
   },
   "outputs": [],
   "source": [
    "ls = pd.Series(l)"
   ]
  },
  {
   "cell_type": "code",
   "execution_count": 12,
   "metadata": {},
   "outputs": [
    {
     "data": {
      "text/plain": [
       "0    a\n",
       "1    b\n",
       "2    c\n",
       "3    d\n",
       "dtype: object"
      ]
     },
     "execution_count": 12,
     "metadata": {},
     "output_type": "execute_result"
    }
   ],
   "source": [
    "ls"
   ]
  },
  {
   "cell_type": "code",
   "execution_count": 68,
   "metadata": {},
   "outputs": [
    {
     "data": {
      "text/html": [
       "<div>\n",
       "<style>\n",
       "    .dataframe thead tr:only-child th {\n",
       "        text-align: right;\n",
       "    }\n",
       "\n",
       "    .dataframe thead th {\n",
       "        text-align: left;\n",
       "    }\n",
       "\n",
       "    .dataframe tbody tr th {\n",
       "        vertical-align: top;\n",
       "    }\n",
       "</style>\n",
       "<table border=\"1\" class=\"dataframe\">\n",
       "  <thead>\n",
       "    <tr style=\"text-align: right;\">\n",
       "      <th></th>\n",
       "      <th>0</th>\n",
       "      <th>1</th>\n",
       "      <th>2</th>\n",
       "      <th>3</th>\n",
       "      <th>4</th>\n",
       "      <th>5</th>\n",
       "      <th>6</th>\n",
       "      <th>7</th>\n",
       "      <th>8</th>\n",
       "    </tr>\n",
       "  </thead>\n",
       "  <tbody>\n",
       "    <tr>\n",
       "      <th>0</th>\n",
       "      <td>chr1</td>\n",
       "      <td>unknown</td>\n",
       "      <td>exon</td>\n",
       "      <td>11874</td>\n",
       "      <td>12227</td>\n",
       "      <td>.</td>\n",
       "      <td>+</td>\n",
       "      <td>.</td>\n",
       "      <td>gene_id \"DDX11L1\"; gene_name \"DDX11L1\"; transc...</td>\n",
       "    </tr>\n",
       "    <tr>\n",
       "      <th>1</th>\n",
       "      <td>chr1</td>\n",
       "      <td>unknown</td>\n",
       "      <td>exon</td>\n",
       "      <td>12613</td>\n",
       "      <td>12721</td>\n",
       "      <td>.</td>\n",
       "      <td>+</td>\n",
       "      <td>.</td>\n",
       "      <td>gene_id \"DDX11L1\"; gene_name \"DDX11L1\"; transc...</td>\n",
       "    </tr>\n",
       "    <tr>\n",
       "      <th>2</th>\n",
       "      <td>chr1</td>\n",
       "      <td>unknown</td>\n",
       "      <td>exon</td>\n",
       "      <td>13221</td>\n",
       "      <td>14409</td>\n",
       "      <td>.</td>\n",
       "      <td>+</td>\n",
       "      <td>.</td>\n",
       "      <td>gene_id \"DDX11L1\"; gene_name \"DDX11L1\"; transc...</td>\n",
       "    </tr>\n",
       "    <tr>\n",
       "      <th>3</th>\n",
       "      <td>chr1</td>\n",
       "      <td>unknown</td>\n",
       "      <td>exon</td>\n",
       "      <td>14362</td>\n",
       "      <td>14829</td>\n",
       "      <td>.</td>\n",
       "      <td>-</td>\n",
       "      <td>.</td>\n",
       "      <td>gene_id \"WASH7P\"; gene_name \"WASH7P\"; transcri...</td>\n",
       "    </tr>\n",
       "    <tr>\n",
       "      <th>4</th>\n",
       "      <td>chr1</td>\n",
       "      <td>unknown</td>\n",
       "      <td>exon</td>\n",
       "      <td>14970</td>\n",
       "      <td>15038</td>\n",
       "      <td>.</td>\n",
       "      <td>-</td>\n",
       "      <td>.</td>\n",
       "      <td>gene_id \"WASH7P\"; gene_name \"WASH7P\"; transcri...</td>\n",
       "    </tr>\n",
       "  </tbody>\n",
       "</table>\n",
       "</div>"
      ],
      "text/plain": [
       "      0        1     2      3      4  5  6  7  \\\n",
       "0  chr1  unknown  exon  11874  12227  .  +  .   \n",
       "1  chr1  unknown  exon  12613  12721  .  +  .   \n",
       "2  chr1  unknown  exon  13221  14409  .  +  .   \n",
       "3  chr1  unknown  exon  14362  14829  .  -  .   \n",
       "4  chr1  unknown  exon  14970  15038  .  -  .   \n",
       "\n",
       "                                                   8  \n",
       "0  gene_id \"DDX11L1\"; gene_name \"DDX11L1\"; transc...  \n",
       "1  gene_id \"DDX11L1\"; gene_name \"DDX11L1\"; transc...  \n",
       "2  gene_id \"DDX11L1\"; gene_name \"DDX11L1\"; transc...  \n",
       "3  gene_id \"WASH7P\"; gene_name \"WASH7P\"; transcri...  \n",
       "4  gene_id \"WASH7P\"; gene_name \"WASH7P\"; transcri...  "
      ]
     },
     "execution_count": 68,
     "metadata": {},
     "output_type": "execute_result"
    }
   ],
   "source": [
    "hg38_gtf = pd.read_csv('/Users/lincoln.harris/code/SNP_calling_pipeline/hg38-plus.gtf', delimiter = '\\t', header = None)\n",
    "hg38_gtf.head() "
   ]
  },
  {
   "cell_type": "code",
   "execution_count": 72,
   "metadata": {
    "scrolled": true
   },
   "outputs": [
    {
     "data": {
      "text/html": [
       "<div>\n",
       "<style>\n",
       "    .dataframe thead tr:only-child th {\n",
       "        text-align: right;\n",
       "    }\n",
       "\n",
       "    .dataframe thead th {\n",
       "        text-align: left;\n",
       "    }\n",
       "\n",
       "    .dataframe tbody tr th {\n",
       "        vertical-align: top;\n",
       "    }\n",
       "</style>\n",
       "<table border=\"1\" class=\"dataframe\">\n",
       "  <thead>\n",
       "    <tr style=\"text-align: right;\">\n",
       "      <th></th>\n",
       "      <th>0</th>\n",
       "      <th>1</th>\n",
       "      <th>2</th>\n",
       "      <th>3</th>\n",
       "      <th>4</th>\n",
       "      <th>5</th>\n",
       "      <th>6</th>\n",
       "      <th>7</th>\n",
       "      <th>8</th>\n",
       "    </tr>\n",
       "  </thead>\n",
       "  <tbody>\n",
       "    <tr>\n",
       "      <th>97898</th>\n",
       "      <td>chr10</td>\n",
       "      <td>unknown</td>\n",
       "      <td>CDS</td>\n",
       "      <td>3129819.0</td>\n",
       "      <td>3129983.0</td>\n",
       "      <td>.</td>\n",
       "      <td>+</td>\n",
       "      <td>0</td>\n",
       "      <td>gene_id \"PFKP\"; gene_name \"PFKP\"; p_id \"P3960\"...</td>\n",
       "    </tr>\n",
       "    <tr>\n",
       "      <th>97899</th>\n",
       "      <td>chr10</td>\n",
       "      <td>unknown</td>\n",
       "      <td>CDS</td>\n",
       "      <td>3129819.0</td>\n",
       "      <td>3129983.0</td>\n",
       "      <td>.</td>\n",
       "      <td>+</td>\n",
       "      <td>0</td>\n",
       "      <td>gene_id \"PFKP\"; gene_name \"PFKP\"; p_id \"P22695...</td>\n",
       "    </tr>\n",
       "    <tr>\n",
       "      <th>97900</th>\n",
       "      <td>chr10</td>\n",
       "      <td>unknown</td>\n",
       "      <td>exon</td>\n",
       "      <td>3129819.0</td>\n",
       "      <td>3129983.0</td>\n",
       "      <td>.</td>\n",
       "      <td>+</td>\n",
       "      <td>.</td>\n",
       "      <td>gene_id \"PFKP\"; gene_name \"PFKP\"; p_id \"P3960\"...</td>\n",
       "    </tr>\n",
       "    <tr>\n",
       "      <th>97901</th>\n",
       "      <td>chr10</td>\n",
       "      <td>unknown</td>\n",
       "      <td>exon</td>\n",
       "      <td>3129819.0</td>\n",
       "      <td>3129983.0</td>\n",
       "      <td>.</td>\n",
       "      <td>+</td>\n",
       "      <td>.</td>\n",
       "      <td>gene_id \"PFKP\"; gene_name \"PFKP\"; p_id \"P22695...</td>\n",
       "    </tr>\n",
       "  </tbody>\n",
       "</table>\n",
       "</div>"
      ],
      "text/plain": [
       "           0        1     2          3          4  5  6  7  \\\n",
       "97898  chr10  unknown   CDS  3129819.0  3129983.0  .  +  0   \n",
       "97899  chr10  unknown   CDS  3129819.0  3129983.0  .  +  0   \n",
       "97900  chr10  unknown  exon  3129819.0  3129983.0  .  +  .   \n",
       "97901  chr10  unknown  exon  3129819.0  3129983.0  .  +  .   \n",
       "\n",
       "                                                       8  \n",
       "97898  gene_id \"PFKP\"; gene_name \"PFKP\"; p_id \"P3960\"...  \n",
       "97899  gene_id \"PFKP\"; gene_name \"PFKP\"; p_id \"P22695...  \n",
       "97900  gene_id \"PFKP\"; gene_name \"PFKP\"; p_id \"P3960\"...  \n",
       "97901  gene_id \"PFKP\"; gene_name \"PFKP\"; p_id \"P22695...  "
      ]
     },
     "execution_count": 72,
     "metadata": {},
     "output_type": "execute_result"
    }
   ],
   "source": [
    "chrom = 10\n",
    "lPosition = '3129929'\n",
    "rPosition = '3129929'\n",
    "\n",
    "chromStr = 'chr' + str(chrom)\n",
    "#print(chromStr)\n",
    "\n",
    "hg38_gtf_filt = hg38_gtf.where(hg38_gtf[0] == chromStr).dropna()\n",
    "hg38_gtf_filt = hg38_gtf_filt.where(hg38_gtf_filt[3] <= int(lPosition)).dropna() # lPos good\n",
    "hg38_gtf_filt = hg38_gtf_filt.where(hg38_gtf_filt[4] >= int(rPosition)).dropna() # rPos good\n",
    "\n",
    "hg38_gtf_filt"
   ]
  },
  {
   "cell_type": "code",
   "execution_count": 81,
   "metadata": {},
   "outputs": [
    {
     "data": {
      "text/plain": [
       "'gene_id \"PFKP\"; gene_name \"PFKP\"; p_id \"P3960\"; transcript_id \"NM_001242339\"; tss_id \"TSS22334\";'"
      ]
     },
     "execution_count": 81,
     "metadata": {},
     "output_type": "execute_result"
    }
   ],
   "source": [
    "hg38_gtf_filt.iloc[0][8]"
   ]
  },
  {
   "cell_type": "code",
   "execution_count": 82,
   "metadata": {},
   "outputs": [
    {
     "data": {
      "text/plain": [
       "['e', 'd']"
      ]
     },
     "execution_count": 82,
     "metadata": {},
     "output_type": "execute_result"
    }
   ],
   "source": [
    "l1 = ['a','b','c','d','e']\n",
    "l2 = ['d','e','f','g','h']\n",
    "shared = list(set(l1) & set(l2))\n",
    "shared"
   ]
  },
  {
   "cell_type": "code",
   "execution_count": 83,
   "metadata": {},
   "outputs": [
    {
     "data": {
      "text/plain": [
       "['e', 'd']"
      ]
     },
     "execution_count": 83,
     "metadata": {},
     "output_type": "execute_result"
    }
   ],
   "source": [
    "l3 = ['a','b','c','d','d', 'd', 'd', 'e']\n",
    "l4 = ['d','d','d','e','f', 'g', 'h', 'i']\n",
    "shared = list(set(l3) & set(l4))\n",
    "shared"
   ]
  },
  {
   "cell_type": "code",
   "execution_count": 2,
   "metadata": {
    "collapsed": true
   },
   "outputs": [],
   "source": [
    "foo = pd.read_csv('/Users/lincoln.harris/code/SNP_calling_pipeline/py_notebooks/foo.csv')"
   ]
  },
  {
   "cell_type": "code",
   "execution_count": 3,
   "metadata": {},
   "outputs": [
    {
     "data": {
      "text/html": [
       "<div>\n",
       "<style>\n",
       "    .dataframe thead tr:only-child th {\n",
       "        text-align: right;\n",
       "    }\n",
       "\n",
       "    .dataframe thead th {\n",
       "        text-align: left;\n",
       "    }\n",
       "\n",
       "    .dataframe tbody tr th {\n",
       "        vertical-align: top;\n",
       "    }\n",
       "</style>\n",
       "<table border=\"1\" class=\"dataframe\">\n",
       "  <thead>\n",
       "    <tr style=\"text-align: right;\">\n",
       "      <th></th>\n",
       "      <th>Unnamed: 0</th>\n",
       "      <th>0</th>\n",
       "      <th>1</th>\n",
       "      <th>2</th>\n",
       "      <th>3</th>\n",
       "      <th>4</th>\n",
       "      <th>5</th>\n",
       "      <th>6</th>\n",
       "      <th>7</th>\n",
       "      <th>8</th>\n",
       "      <th>...</th>\n",
       "      <th>301</th>\n",
       "      <th>302</th>\n",
       "      <th>303</th>\n",
       "      <th>304</th>\n",
       "      <th>305</th>\n",
       "      <th>306</th>\n",
       "      <th>307</th>\n",
       "      <th>308</th>\n",
       "      <th>309</th>\n",
       "      <th>310</th>\n",
       "    </tr>\n",
       "  </thead>\n",
       "  <tbody>\n",
       "    <tr>\n",
       "      <th>0</th>\n",
       "      <td>A1_B000860</td>\n",
       "      <td>EEF1D</td>\n",
       "      <td>EBNA1BP2</td>\n",
       "      <td>NaN</td>\n",
       "      <td>ANXA2P2</td>\n",
       "      <td>NAPSA</td>\n",
       "      <td>NaN</td>\n",
       "      <td>ZDHHC12</td>\n",
       "      <td>HLA-B</td>\n",
       "      <td>HLA-H</td>\n",
       "      <td>...</td>\n",
       "      <td>NaN</td>\n",
       "      <td>NaN</td>\n",
       "      <td>NaN</td>\n",
       "      <td>NaN</td>\n",
       "      <td>NaN</td>\n",
       "      <td>NaN</td>\n",
       "      <td>NaN</td>\n",
       "      <td>NaN</td>\n",
       "      <td>NaN</td>\n",
       "      <td>NaN</td>\n",
       "    </tr>\n",
       "    <tr>\n",
       "      <th>1</th>\n",
       "      <td>A1_B000863</td>\n",
       "      <td>ATIC</td>\n",
       "      <td>GOT2</td>\n",
       "      <td>EBNA1BP2</td>\n",
       "      <td>SART3</td>\n",
       "      <td>PEX16</td>\n",
       "      <td>ANXA2P2</td>\n",
       "      <td>TIMMDC1</td>\n",
       "      <td>NaN</td>\n",
       "      <td>NAPSA</td>\n",
       "      <td>...</td>\n",
       "      <td>MECR</td>\n",
       "      <td>AMOTL1</td>\n",
       "      <td>LLGL2</td>\n",
       "      <td>ABT1</td>\n",
       "      <td>COA7</td>\n",
       "      <td>CRTAP</td>\n",
       "      <td>SUCO</td>\n",
       "      <td>ATP5A1</td>\n",
       "      <td>SDC4</td>\n",
       "      <td>ALAS1</td>\n",
       "    </tr>\n",
       "    <tr>\n",
       "      <th>2</th>\n",
       "      <td>A1_B000883</td>\n",
       "      <td>LY6E</td>\n",
       "      <td>RPS16</td>\n",
       "      <td>ANXA2P2</td>\n",
       "      <td>BST2</td>\n",
       "      <td>TRMT10C</td>\n",
       "      <td>IWS1</td>\n",
       "      <td>NOTCH2</td>\n",
       "      <td>RPS16</td>\n",
       "      <td>SIPA1</td>\n",
       "      <td>...</td>\n",
       "      <td>NaN</td>\n",
       "      <td>NaN</td>\n",
       "      <td>NaN</td>\n",
       "      <td>NaN</td>\n",
       "      <td>NaN</td>\n",
       "      <td>NaN</td>\n",
       "      <td>NaN</td>\n",
       "      <td>NaN</td>\n",
       "      <td>NaN</td>\n",
       "      <td>NaN</td>\n",
       "    </tr>\n",
       "  </tbody>\n",
       "</table>\n",
       "<p>3 rows × 312 columns</p>\n",
       "</div>"
      ],
      "text/plain": [
       "   Unnamed: 0      0         1         2        3        4        5        6  \\\n",
       "0  A1_B000860  EEF1D  EBNA1BP2       NaN  ANXA2P2    NAPSA      NaN  ZDHHC12   \n",
       "1  A1_B000863   ATIC      GOT2  EBNA1BP2    SART3    PEX16  ANXA2P2  TIMMDC1   \n",
       "2  A1_B000883   LY6E     RPS16   ANXA2P2     BST2  TRMT10C     IWS1   NOTCH2   \n",
       "\n",
       "       7      8  ...     301     302    303   304   305    306   307     308  \\\n",
       "0  HLA-B  HLA-H  ...     NaN     NaN    NaN   NaN   NaN    NaN   NaN     NaN   \n",
       "1    NaN  NAPSA  ...    MECR  AMOTL1  LLGL2  ABT1  COA7  CRTAP  SUCO  ATP5A1   \n",
       "2  RPS16  SIPA1  ...     NaN     NaN    NaN   NaN   NaN    NaN   NaN     NaN   \n",
       "\n",
       "    309    310  \n",
       "0   NaN    NaN  \n",
       "1  SDC4  ALAS1  \n",
       "2   NaN    NaN  \n",
       "\n",
       "[3 rows x 312 columns]"
      ]
     },
     "execution_count": 3,
     "metadata": {},
     "output_type": "execute_result"
    }
   ],
   "source": [
    "foo"
   ]
  },
  {
   "cell_type": "code",
   "execution_count": 4,
   "metadata": {
    "collapsed": true
   },
   "outputs": [],
   "source": [
    "import multiprocessing as mp"
   ]
  },
  {
   "cell_type": "code",
   "execution_count": 5,
   "metadata": {},
   "outputs": [
    {
     "ename": "TypeError",
     "evalue": "'module' object is not callable",
     "output_type": "error",
     "traceback": [
      "\u001b[0;31m---------------------------------------------------------------------------\u001b[0m",
      "\u001b[0;31mTypeError\u001b[0m                                 Traceback (most recent call last)",
      "\u001b[0;32m<ipython-input-5-30441dcfcaf8>\u001b[0m in \u001b[0;36m<module>\u001b[0;34m()\u001b[0m\n\u001b[0;32m----> 1\u001b[0;31m \u001b[0mmp\u001b[0m\u001b[0;34m.\u001b[0m\u001b[0mprocess\u001b[0m\u001b[0;34m(\u001b[0m\u001b[0;34m)\u001b[0m\u001b[0;34m\u001b[0m\u001b[0m\n\u001b[0m",
      "\u001b[0;31mTypeError\u001b[0m: 'module' object is not callable"
     ]
    }
   ],
   "source": [
    "mp.process()"
   ]
  },
  {
   "cell_type": "code",
   "execution_count": null,
   "metadata": {
    "collapsed": true
   },
   "outputs": [],
   "source": []
  }
 ],
 "metadata": {
  "kernelspec": {
   "display_name": "Python 3",
   "language": "python",
   "name": "python3"
  },
  "language_info": {
   "codemirror_mode": {
    "name": "ipython",
    "version": 3
   },
   "file_extension": ".py",
   "mimetype": "text/x-python",
   "name": "python",
   "nbconvert_exporter": "python",
   "pygments_lexer": "ipython3",
   "version": "3.6.4"
  }
 },
 "nbformat": 4,
 "nbformat_minor": 2
}
